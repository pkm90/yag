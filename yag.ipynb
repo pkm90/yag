{
 "cells": [
  {
   "cell_type": "markdown",
   "id": "f99f6797-c78d-45c5-a4bc-88c31a5aafeb",
   "metadata": {
    "tags": []
   },
   "source": [
    "## linkedlists"
   ]
  },
  {
   "cell_type": "markdown",
   "id": "33b28c0f-5ead-4bc8-9ec0-bfbefd8f13a8",
   "metadata": {},
   "source": [
    "<img src=\"linkedlist.png\" width=\"1000\" height=\"500\">\n"
   ]
  },
  {
   "cell_type": "code",
   "execution_count": null,
   "id": "0ade5796-9b49-4b9a-8d8b-bce13441ec78",
   "metadata": {},
   "outputs": [],
   "source": []
  },
  {
   "cell_type": "code",
   "execution_count": 85,
   "id": "2e7b47ad-880d-4c0e-afaa-537ab590a042",
   "metadata": {},
   "outputs": [],
   "source": [
    "class Node:\n",
    "    def __init__(self, val = None, next = None):\n",
    "        self.val = val\n",
    "        self.next = next\n",
    "        \n",
    "        \n",
    "head = Node(val = 1)\n",
    "node = head\n",
    "for i in range(2, 5):\n",
    "    node.next = Node(val = i)\n",
    "    node = node.next"
   ]
  },
  {
   "cell_type": "code",
   "execution_count": 86,
   "id": "681d1c47-499a-4984-9995-cf0eb786cf31",
   "metadata": {},
   "outputs": [
    {
     "name": "stdout",
     "output_type": "stream",
     "text": [
      "1\n",
      "2\n",
      "3\n",
      "4\n"
     ]
    }
   ],
   "source": [
    "# traversing and printing values of linkedlist\n",
    "inode = head\n",
    "while inode:\n",
    "    print(inode.val)\n",
    "    inode = inode.next\n"
   ]
  },
  {
   "cell_type": "code",
   "execution_count": 87,
   "id": "a926b5b6-5177-4f8f-ad12-474d6230d1f9",
   "metadata": {},
   "outputs": [],
   "source": [
    "# deleting node target node\n",
    "inode = head\n",
    "target = 3\n",
    "while inode:\n",
    "    # print(inode.val)\n",
    "    if inode.val == target - 1:\n",
    "        inode.next = inode.next.next\n",
    "    inode = inode.next\n"
   ]
  },
  {
   "cell_type": "code",
   "execution_count": null,
   "id": "fc6738c8-ba60-4382-8769-20c26e473661",
   "metadata": {},
   "outputs": [],
   "source": []
  },
  {
   "cell_type": "markdown",
   "id": "9e8afb74-d554-4642-bc37-3f366ec8e25a",
   "metadata": {},
   "source": [
    "## trees"
   ]
  },
  {
   "cell_type": "markdown",
   "id": "ebe6c62f-0f63-4aaf-bc21-58fc9b545585",
   "metadata": {},
   "source": [
    "### binary tree\n",
    "\n",
    "This is where each node has a left and right child. There are a few methods of traversal:\n",
    "- bfs, breadth-first-search: using a queue and adding children\n",
    "- dfs, depth-first-search: using a stack and adding children\n",
    "\n",
    "dfs has a few variants, but the only thing that changes is when the root node gets processed:\n",
    "- **pre**-order: **root**, left, right\n",
    "- **in**-order: left, **root**, right\n",
    "- **post**-order: left, right **root**\n",
    "\n",
    "When solving tree questions recursively, there are usually two methods:\n",
    "- top-down (preorder): do your conditional/check, then add left and right\n",
    "- bottom-up (postorder): add left and right, then do your conditional/check"
   ]
  },
  {
   "cell_type": "markdown",
   "id": "ad5d92fb-81fb-40fd-b7a1-81397b365f88",
   "metadata": {},
   "source": [
    "### binary search tree\n",
    "This is a binary tree that has unique values and is ordered. Left is lesser and right is greater.\n",
    "\n",
    "- inorder traversal in BST will be in ascending order. Therefore, the inorder traversal is the most frequent used traversal method of a BST.\n",
    "\n"
   ]
  },
  {
   "cell_type": "markdown",
   "id": "2323fae1-bfa1-4a9d-a865-b28287b58e45",
   "metadata": {},
   "source": [
    "<img src=\"binarytreeorders.jpg\" width=\"1000\" height=\"500\">\n"
   ]
  },
  {
   "cell_type": "code",
   "execution_count": null,
   "id": "ab3f8ad3-619b-4448-aaac-1d703d8be328",
   "metadata": {},
   "outputs": [],
   "source": [
    "class TreeNode:\n",
    "    def __init__(self, val = None, l = None, r = None):\n",
    "        self.val = val\n",
    "        self.left = l\n",
    "        self.right = r"
   ]
  },
  {
   "cell_type": "code",
   "execution_count": null,
   "id": "f668b109-c397-44a4-99e3-baf236e0390b",
   "metadata": {},
   "outputs": [],
   "source": [
    "# return bfs traversal\n",
    "\n",
    "res = []\n",
    "q = collections.deque()\n",
    "q.append(root)\n",
    "\n",
    "while len(q) > 0:\n",
    "    curr = q.popleft()\n",
    "    if curr is None:\n",
    "        continue\n",
    "        \n",
    "    res.append(curr.val)\n",
    "    q.append(curr.left)\n",
    "    q.append(curr.right)\n",
    "\n",
    "return res"
   ]
  },
  {
   "cell_type": "code",
   "execution_count": null,
   "id": "ece7c68c-d3e8-4a1e-8229-7eda980e7bd9",
   "metadata": {},
   "outputs": [],
   "source": [
    "# return dfs traversal\n",
    "\n",
    "res = []\n",
    "def dfs(root):\n",
    "    if root is None:\n",
    "        return\n",
    "    \n",
    "    res.append(root.val)\n",
    "    dfs(root.left)\n",
    "    dfs(root.right)\n",
    "\n",
    "dfs(root)\n",
    "return res    "
   ]
  }
 ],
 "metadata": {
  "kernelspec": {
   "display_name": "Python 3 (ipykernel)",
   "language": "python",
   "name": "python3"
  },
  "language_info": {
   "codemirror_mode": {
    "name": "ipython",
    "version": 3
   },
   "file_extension": ".py",
   "mimetype": "text/x-python",
   "name": "python",
   "nbconvert_exporter": "python",
   "pygments_lexer": "ipython3",
   "version": "3.8.10"
  }
 },
 "nbformat": 4,
 "nbformat_minor": 5
}
